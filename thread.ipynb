{
 "cells": [
  {
   "cell_type": "code",
   "execution_count": 2,
   "metadata": {},
   "outputs": [],
   "source": [
    "import _thread #thread module imported\n",
    "import time #time module"
   ]
  },
  {
   "cell_type": "code",
   "execution_count": 3,
   "metadata": {},
   "outputs": [],
   "source": [
    "def thread_delay(thread_name, delay):\n",
    "    count = 0\n",
    "    while count < 3:\n",
    "        time.sleep(delay)\n",
    "        count += 1\n",
    "        print(thread_name, '-------->', time.time())"
   ]
  },
  {
   "cell_type": "code",
   "execution_count": 7,
   "metadata": {},
   "outputs": [
    {
     "data": {
      "text/plain": [
       "1356"
      ]
     },
     "execution_count": 7,
     "metadata": {},
     "output_type": "execute_result"
    },
    {
     "name": "stdout",
     "output_type": "stream",
     "text": [
      "t1 --------> 1704713432.686045\n",
      "t1 --------> 1704713433.690558\n",
      "t1 --------> 1704713434.691191\n",
      "t2 --------> 1704713436.6898975\n",
      "t2 --------> 1704713441.6939678\n",
      "t2 --------> 1704713446.6942618\n"
     ]
    }
   ],
   "source": [
    "_thread.start_new_thread(thread_delay, ('t1', 1))\n",
    "_thread.start_new_thread(thread_delay, ('t2', 5))\n"
   ]
  },
  {
   "cell_type": "code",
   "execution_count": 8,
   "metadata": {},
   "outputs": [
    {
     "data": {
      "text/plain": [
       "16568"
      ]
     },
     "execution_count": 8,
     "metadata": {},
     "output_type": "execute_result"
    },
    {
     "name": "stdout",
     "output_type": "stream",
     "text": [
      "t1 --------> 1704713469.0399988\n",
      "t1 --------> 1704713470.0443873\n",
      "t2 --------> 1704713471.0401676\n",
      "t1 --------> 1704713471.0452056\n",
      "t2 --------> 1704713474.0448248\n",
      "t2 --------> 1704713477.045474\n"
     ]
    }
   ],
   "source": [
    "_thread.start_new_thread(thread_delay, ('t1', 1))\n",
    "_thread.start_new_thread(thread_delay, ('t2', 3))"
   ]
  },
  {
   "cell_type": "code",
   "execution_count": 9,
   "metadata": {},
   "outputs": [],
   "source": [
    "import threading"
   ]
  },
  {
   "cell_type": "code",
   "execution_count": 10,
   "metadata": {},
   "outputs": [],
   "source": [
    "def thread_delay(thread_name, delay):\n",
    "    count = 0\n",
    "    while count < 3:\n",
    "        time.sleep(delay)\n",
    "        count += 1\n",
    "        print(thread_name, '-------->', time.time())"
   ]
  },
  {
   "cell_type": "code",
   "execution_count": 11,
   "metadata": {},
   "outputs": [
    {
     "name": "stdout",
     "output_type": "stream",
     "text": [
      "\u001b[1;31mInit signature:\u001b[0m\n",
      "\u001b[0mthreading\u001b[0m\u001b[1;33m.\u001b[0m\u001b[0mThread\u001b[0m\u001b[1;33m(\u001b[0m\u001b[1;33m\n",
      "\u001b[0m    \u001b[0mgroup\u001b[0m\u001b[1;33m=\u001b[0m\u001b[1;32mNone\u001b[0m\u001b[1;33m,\u001b[0m\u001b[1;33m\n",
      "\u001b[0m    \u001b[0mtarget\u001b[0m\u001b[1;33m=\u001b[0m\u001b[1;32mNone\u001b[0m\u001b[1;33m,\u001b[0m\u001b[1;33m\n",
      "\u001b[0m    \u001b[0mname\u001b[0m\u001b[1;33m=\u001b[0m\u001b[1;32mNone\u001b[0m\u001b[1;33m,\u001b[0m\u001b[1;33m\n",
      "\u001b[0m    \u001b[0margs\u001b[0m\u001b[1;33m=\u001b[0m\u001b[1;33m(\u001b[0m\u001b[1;33m)\u001b[0m\u001b[1;33m,\u001b[0m\u001b[1;33m\n",
      "\u001b[0m    \u001b[0mkwargs\u001b[0m\u001b[1;33m=\u001b[0m\u001b[1;32mNone\u001b[0m\u001b[1;33m,\u001b[0m\u001b[1;33m\n",
      "\u001b[0m    \u001b[1;33m*\u001b[0m\u001b[1;33m,\u001b[0m\u001b[1;33m\n",
      "\u001b[0m    \u001b[0mdaemon\u001b[0m\u001b[1;33m=\u001b[0m\u001b[1;32mNone\u001b[0m\u001b[1;33m,\u001b[0m\u001b[1;33m\n",
      "\u001b[0m\u001b[1;33m)\u001b[0m\u001b[1;33m\u001b[0m\u001b[1;33m\u001b[0m\u001b[0m\n",
      "\u001b[1;31mDocstring:\u001b[0m     \n",
      "A class that represents a thread of control.\n",
      "\n",
      "This class can be safely subclassed in a limited fashion. There are two ways\n",
      "to specify the activity: by passing a callable object to the constructor, or\n",
      "by overriding the run() method in a subclass.\n",
      "\u001b[1;31mInit docstring:\u001b[0m\n",
      "This constructor should always be called with keyword arguments. Arguments are:\n",
      "\n",
      "*group* should be None; reserved for future extension when a ThreadGroup\n",
      "class is implemented.\n",
      "\n",
      "*target* is the callable object to be invoked by the run()\n",
      "method. Defaults to None, meaning nothing is called.\n",
      "\n",
      "*name* is the thread name. By default, a unique name is constructed of\n",
      "the form \"Thread-N\" where N is a small decimal number.\n",
      "\n",
      "*args* is a list or tuple of arguments for the target invocation. Defaults to ().\n",
      "\n",
      "*kwargs* is a dictionary of keyword arguments for the target\n",
      "invocation. Defaults to {}.\n",
      "\n",
      "If a subclass overrides the constructor, it must make sure to invoke\n",
      "the base class constructor (Thread.__init__()) before doing anything\n",
      "else to the thread.\n",
      "\u001b[1;31mFile:\u001b[0m           c:\\users\\tahir\\appdata\\local\\programs\\python\\python311\\lib\\threading.py\n",
      "\u001b[1;31mType:\u001b[0m           type\n",
      "\u001b[1;31mSubclasses:\u001b[0m     Timer, _MainThread, _DummyThread, HBChannel, HistorySavingThread, ControlThread, Heartbeat, PyDBDaemonThread, _EvalAwaitInNewEventLoop, ParentPollerUnix, ..."
     ]
    }
   ],
   "source": [
    "?threading.Thread\n"
   ]
  },
  {
   "cell_type": "code",
   "execution_count": 18,
   "metadata": {},
   "outputs": [],
   "source": [
    "t1 = threading.Thread(target=thread_delay, args=('t1', 1))\n",
    "t2 = threading.Thread(target=thread_delay, args=('t2', 3))"
   ]
  },
  {
   "cell_type": "code",
   "execution_count": 19,
   "metadata": {},
   "outputs": [
    {
     "name": "stdout",
     "output_type": "stream",
     "text": [
      "\u001b[1;31mSignature:\u001b[0m \u001b[0mt1\u001b[0m\u001b[1;33m.\u001b[0m\u001b[0mstart\u001b[0m\u001b[1;33m(\u001b[0m\u001b[1;33m)\u001b[0m\u001b[1;33m\u001b[0m\u001b[1;33m\u001b[0m\u001b[0m\n",
      "\u001b[1;31mDocstring:\u001b[0m\n",
      "Start the thread's activity.\n",
      "\n",
      "It must be called at most once per thread object. It arranges for the\n",
      "object's run() method to be invoked in a separate thread of control.\n",
      "\n",
      "This method will raise a RuntimeError if called more than once on the\n",
      "same thread object.\n",
      "\u001b[1;31mFile:\u001b[0m      c:\\users\\tahir\\appdata\\local\\programs\\python\\python311\\lib\\threading.py\n",
      "\u001b[1;31mType:\u001b[0m      method"
     ]
    }
   ],
   "source": [
    "?t1.start"
   ]
  },
  {
   "cell_type": "code",
   "execution_count": 14,
   "metadata": {},
   "outputs": [
    {
     "name": "stdout",
     "output_type": "stream",
     "text": [
      "t1 --------> 1704713567.7840245\n",
      "t1 --------> 1704713568.8008053\n",
      "t2 --------> 1704713569.7846205\n",
      "t1 --------> 1704713569.8014464\n",
      "t2 --------> 1704713572.7882357\n",
      "t2 --------> 1704713575.7885756\n"
     ]
    }
   ],
   "source": [
    "t1.start()\n",
    "t2.start()"
   ]
  },
  {
   "cell_type": "code",
   "execution_count": 15,
   "metadata": {},
   "outputs": [
    {
     "name": "stdout",
     "output_type": "stream",
     "text": [
      "\u001b[1;31mSignature:\u001b[0m \u001b[0mt1\u001b[0m\u001b[1;33m.\u001b[0m\u001b[0mjoin\u001b[0m\u001b[1;33m(\u001b[0m\u001b[0mtimeout\u001b[0m\u001b[1;33m=\u001b[0m\u001b[1;32mNone\u001b[0m\u001b[1;33m)\u001b[0m\u001b[1;33m\u001b[0m\u001b[1;33m\u001b[0m\u001b[0m\n",
      "\u001b[1;31mDocstring:\u001b[0m\n",
      "Wait until the thread terminates.\n",
      "\n",
      "This blocks the calling thread until the thread whose join() method is\n",
      "called terminates -- either normally or through an unhandled exception\n",
      "or until the optional timeout occurs.\n",
      "\n",
      "When the timeout argument is present and not None, it should be a\n",
      "floating point number specifying a timeout for the operation in seconds\n",
      "(or fractions thereof). As join() always returns None, you must call\n",
      "is_alive() after join() to decide whether a timeout happened -- if the\n",
      "thread is still alive, the join() call timed out.\n",
      "\n",
      "When the timeout argument is not present or None, the operation will\n",
      "block until the thread terminates.\n",
      "\n",
      "A thread can be join()ed many times.\n",
      "\n",
      "join() raises a RuntimeError if an attempt is made to join the current\n",
      "thread as that would cause a deadlock. It is also an error to join() a\n",
      "thread before it has been started and attempts to do so raises the same\n",
      "exception.\n",
      "\u001b[1;31mFile:\u001b[0m      c:\\users\\tahir\\appdata\\local\\programs\\python\\python311\\lib\\threading.py\n",
      "\u001b[1;31mType:\u001b[0m      method"
     ]
    }
   ],
   "source": [
    "?t1.join\n"
   ]
  },
  {
   "cell_type": "code",
   "execution_count": 20,
   "metadata": {},
   "outputs": [
    {
     "name": "stdout",
     "output_type": "stream",
     "text": [
      "t1 --------> 1704713658.946497\n",
      "t1 --------> 1704713659.9530363\n",
      "t2 --------> 1704713660.9479563\n",
      "t1 --------> 1704713660.9539816\n",
      "t2 --------> 1704713663.9529765\n",
      "t2 --------> 1704713666.9545534\n",
      "Thread execution is complete!\n"
     ]
    }
   ],
   "source": [
    "t1.start()\n",
    "t2.start()\n",
    "\n",
    "t1.join()\n",
    "t2.join()\n",
    "\n",
    "print(\"Thread execution is complete!\")\n"
   ]
  },
  {
   "cell_type": "code",
   "execution_count": 23,
   "metadata": {},
   "outputs": [],
   "source": [
    "def volume_cube(a):\n",
    "    print (\"Volume of Cube:\", a*a*a)\n",
    "\n",
    "def volume_square(a):\n",
    "    print (\"Volume of Square:\", a*a)\n",
    "\n",
    "t1 = threading.Thread(target=volume_cube, args=(2,))\n",
    "t2 = threading.Thread(target=volume_square, args=(3,))"
   ]
  },
  {
   "cell_type": "code",
   "execution_count": 24,
   "metadata": {},
   "outputs": [
    {
     "name": "stdout",
     "output_type": "stream",
     "text": [
      "Volume of Cube: 8\n",
      "Volume of Square: 9\n",
      "Thread execution is complete!\n"
     ]
    }
   ],
   "source": [
    "t1.start()\n",
    "t2.start()\n",
    "\n",
    "t1.join()\n",
    "t2.join()\n",
    "\n",
    "print(\"Thread execution is complete!\")"
   ]
  },
  {
   "cell_type": "code",
   "execution_count": 25,
   "metadata": {},
   "outputs": [],
   "source": [
    "class MyThread(threading.Thread):\n",
    "    def __init__(self, name, delay):\n",
    "        threading.Thread.__init__(self)\n",
    "        self.name = name\n",
    "        self.delay = delay\n",
    "\n",
    "\n",
    "    def run(self):\n",
    "        print('Starting Thread:', self.name)\n",
    "        thread_delay(self.name,self.delay)\n",
    "        print('Execution of Thread:', self.name, 'is complete!')"
   ]
  },
  {
   "cell_type": "code",
   "execution_count": 26,
   "metadata": {},
   "outputs": [
    {
     "name": "stdout",
     "output_type": "stream",
     "text": [
      "Starting Thread:Starting Thread: t2\n",
      " t1\n",
      "t1 --------> 1704714013.8238385\n",
      "t1 --------> 1704714014.8241413\n",
      "t2 --------> 1704714015.8229506\n",
      "t1 --------> 1704714015.8259897\n",
      "Execution of Thread: t1 is complete!\n",
      "t2 --------> 1704714018.8260026\n",
      "t2 --------> 1704714021.8263092\n",
      "Execution of Thread: t2 is complete!\n",
      "Thread execution is complete!\n"
     ]
    }
   ],
   "source": [
    "t1 = MyThread('t1', 1)\n",
    "t2 = MyThread('t2', 3)    \n",
    "\n",
    "t1.start()\n",
    "t2.start()\n",
    "\n",
    "t1.join()\n",
    "t2.join()\n",
    "\n",
    "print(\"Thread execution is complete!\")"
   ]
  },
  {
   "cell_type": "code",
   "execution_count": null,
   "metadata": {},
   "outputs": [],
   "source": []
  }
 ],
 "metadata": {
  "kernelspec": {
   "display_name": "Python 3",
   "language": "python",
   "name": "python3"
  },
  "language_info": {
   "codemirror_mode": {
    "name": "ipython",
    "version": 3
   },
   "file_extension": ".py",
   "mimetype": "text/x-python",
   "name": "python",
   "nbconvert_exporter": "python",
   "pygments_lexer": "ipython3",
   "version": "3.11.2"
  }
 },
 "nbformat": 4,
 "nbformat_minor": 2
}
